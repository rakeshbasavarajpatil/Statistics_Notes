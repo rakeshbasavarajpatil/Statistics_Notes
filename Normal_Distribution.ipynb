{
 "cells": [
  {
   "cell_type": "markdown",
   "metadata": {},
   "source": [
    "We'll start with the definition of the PDF, we'll see how to create the distribution in python using scipy and numpy, and discuss some properties of the normal distribution.\n",
    "\n",
    "The distribution is defined by the probability density function equation:\n",
    "\n",
    "f(x,μ,σ)=(1/σ√2π)*e^−1/2z^2\n",
    "\n",
    "Where:\n",
    "\n",
    "z=(X−μ)/σ"
   ]
  },
  {
   "cell_type": "markdown",
   "metadata": {},
   "source": [
    "where: μ=mean , σ=standard deviation , π=3.14... , e=2.718... The total area bounded by curve of the probability density function equation and the X axis is 1; thus the area under the curve between two ordinates X=a and X=b, where a<b, represents the probability that X lies between a and b. This probability can be expressed as:\n",
    "\n",
    "\n",
    "Pr(a<X<b)"
   ]
  },
  {
   "cell_type": "markdown",
   "metadata": {},
   "source": [
    "Let's look at the curve. The normal distribution has several characteristics:\n",
    "\n",
    "1.) It has a lower tail (on the left) and an upper tail (on the right)\n",
    "\n",
    "2.) The curve is symmetric (for the theoretical distribution)\n",
    "\n",
    "3.) The peak occurs at the mean.\n",
    "\n",
    "4.) The standard deviation gives the curve a different shape:\n",
    "    -Narrow and tall for a smaller standard deviation.\n",
    "    -Shallower and fatter for a larger standard deviation.\n",
    "\n",
    "5.) The area under the curve is equal to 1 (the total probaility space)\n",
    "\n",
    "6.) The mean=median=mode.\n",
    "\n",
    "\n",
    "For the normal distribution, we can see what percentage of values lie between +/- a standard deviation. 68% of the values lie within 1 TSD, 95% between 2 STDs, and 99.7% between 3 STDs. The number of standard deviations is also called the z-score, which we saw above in the PDF."
   ]
  },
  {
   "cell_type": "code",
   "execution_count": 1,
   "metadata": {},
   "outputs": [
    {
     "data": {
      "text/html": [
       "<img src=\"http://upload.wikimedia.org/wikipedia/commons/thumb/2/25/The_Normal_Distribution.svg/725px-The_Normal_Distribution.svg.png\"/>"
      ],
      "text/plain": [
       "<IPython.core.display.Image object>"
      ]
     },
     "execution_count": 1,
     "metadata": {},
     "output_type": "execute_result"
    }
   ],
   "source": [
    "from IPython.display import Image\n",
    "Image(url='http://upload.wikimedia.org/wikipedia/commons/thumb/2/25/The_Normal_Distribution.svg/725px-The_Normal_Distribution.svg.png')"
   ]
  },
  {
   "cell_type": "code",
   "execution_count": 3,
   "metadata": {},
   "outputs": [
    {
     "data": {
      "text/plain": [
       "[<matplotlib.lines.Line2D at 0xc556fd0>]"
      ]
     },
     "execution_count": 3,
     "metadata": {},
     "output_type": "execute_result"
    },
    {
     "data": {
      "image/png": "[encoded data removed]",
      "text/plain": [
       "<matplotlib.figure.Figure at 0xc45af98>"
      ]
     },
     "metadata": {},
     "output_type": "display_data"
    }
   ],
   "source": [
    "#Import\n",
    "import numpy as np\n",
    "import matplotlib as mpl\n",
    "import matplotlib.pyplot as plt\n",
    "%matplotlib inline\n",
    "\n",
    "#Import the stats library\n",
    "from scipy import stats\n",
    "\n",
    "# Set the mean\n",
    "mean = 0\n",
    "\n",
    "#Set the standard deviation\n",
    "std = 1\n",
    "\n",
    "\n",
    "# Create a range\n",
    "X = np.arange(-4,4,0.01)\n",
    "\n",
    "#Create the normal distribution for the range\n",
    "Y = stats.norm.pdf(X,mean,std)\n",
    "\n",
    "#\n",
    "plt.plot(X,Y)"
   ]
  },
  {
   "cell_type": "code",
   "execution_count": 4,
   "metadata": {
    "collapsed": true
   },
   "outputs": [],
   "source": [
    "#Set the mean and the standard deviaiton\n",
    "mu,sigma = 0,0.1\n",
    "\n",
    "# Now grab 1000 random numbers from the normal distribution\n",
    "norm_set = np.random.normal(mu,sigma,1000)"
   ]
  },
  {
   "cell_type": "code",
   "execution_count": 5,
   "metadata": {},
   "outputs": [
    {
     "data": {
      "text/plain": [
       "(array([  1.,   1.,   2.,   1.,   5.,   5.,   4.,   6.,  10.,  16.,  13.,\n",
       "         13.,  20.,  27.,  27.,  36.,  40.,  34.,  43.,  41.,  42.,  47.,\n",
       "         42.,  52.,  39.,  41.,  45.,  43.,  33.,  40.,  34.,  32.,  24.,\n",
       "         31.,  25.,  12.,  20.,  14.,   7.,  10.,   4.,   3.,   5.,   2.,\n",
       "          0.,   1.,   2.,   3.,   1.,   1.]),\n",
       " array([-0.29205203, -0.27996308, -0.26787412, -0.25578517, -0.24369622,\n",
       "        -0.23160726, -0.21951831, -0.20742935, -0.1953404 , -0.18325145,\n",
       "        -0.17116249, -0.15907354, -0.14698459, -0.13489563, -0.12280668,\n",
       "        -0.11071772, -0.09862877, -0.08653982, -0.07445086, -0.06236191,\n",
       "        -0.05027296, -0.038184  , -0.02609505, -0.0140061 , -0.00191714,\n",
       "         0.01017181,  0.02226077,  0.03434972,  0.04643867,  0.05852763,\n",
       "         0.07061658,  0.08270553,  0.09479449,  0.10688344,  0.1189724 ,\n",
       "         0.13106135,  0.1431503 ,  0.15523926,  0.16732821,  0.17941716,\n",
       "         0.19150612,  0.20359507,  0.21568402,  0.22777298,  0.23986193,\n",
       "         0.25195089,  0.26403984,  0.27612879,  0.28821775,  0.3003067 ,\n",
       "         0.31239565]),\n",
       " <a list of 50 Patch objects>)"
      ]
     },
     "execution_count": 5,
     "metadata": {},
     "output_type": "execute_result"
    },
    {
     "data": {
      "image/png": "[encoded data removed]",
      "text/plain": [
       "<matplotlib.figure.Figure at 0xc4eae10>"
      ]
     },
     "metadata": {},
     "output_type": "display_data"
    }
   ],
   "source": [
    "#Now let's plot it using seaborn\n",
    "\n",
    "import seaborn as sns\n",
    "\n",
    "plt.hist(norm_set,bins=50)"
   ]
  },
  {
   "cell_type": "markdown",
   "metadata": {},
   "source": [
    "More Resources:\n",
    "\n",
    "1.) http://en.wikipedia.org/wiki/Normal_distribution\n",
    "\n",
    "2.) http://mathworld.wolfram.com/NormalDistribution.html\n",
    "\n",
    "3.) http://stattrek.com/probability-distributions/normal.aspx"
   ]
  }
 ],
 "metadata": {
  "kernelspec": {
   "display_name": "Python 2",
   "language": "python",
   "name": "python2"
  },
  "language_info": {
   "codemirror_mode": {
    "name": "ipython",
    "version": 2
   },
   "file_extension": ".py",
   "mimetype": "text/x-python",
   "name": "python",
   "nbconvert_exporter": "python",
   "pygments_lexer": "ipython2",
   "version": "2.7.14"
  }
 },
 "nbformat": 4,
 "nbformat_minor": 2
}
