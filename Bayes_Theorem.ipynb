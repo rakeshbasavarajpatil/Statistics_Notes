{
 "cells": [
  {
   "cell_type": "markdown",
   "metadata": {},
   "source": [
    "Overview:\n",
    "\n",
    "In probability theory and statistics, Bayes' theorem describes the probability of an event, based on conditions that might be related to the event. Bayes Theorem allows us to use previously known information to asess likelihood of another related event.\n",
    "\n",
    "You will usually see Bayes Theorem displayed in one of two ways:\n",
    "\n",
    "P(A|B)=P(B|A)P(A)P(B)\n",
    "\n",
    "P(A|B)=P(B|A)P(A)P(B|A)P(A)+P(B|notA)P(notA)\n",
    "\n",
    "Here P(A|B) stands for the Probability that A happened given B has occured. These are both the same, in the second case, you would use this form if you don't directly have the Probability of B occuring on its own.\n",
    "\n",
    "Let's go ahead and dive into an example Problem to see how to use Baye's Theorem!"
   ]
  },
  {
   "cell_type": "markdown",
   "metadata": {},
   "source": [
    "Example Problem\n",
    "This is a classic example of Bayes Theorem:\n",
    "\n",
    "We have a test to screen for breast cancer, with the following conditions:\n",
    "\n",
    "1% of women have breast cancer\n",
    "80% of mammograms detect breast cancer when it is there\n",
    "9.6 % of mammograms detect breast cancer when it is not there. (False Positive)\n",
    "We could assign the probabilities to the sample space by using a table:\n",
    "\n",
    "Cancer (1%)\tNo Cancer (99%)\n",
    "Tested Positive\t80%\t9.6%\n",
    "Tested Negative\t20%\t90.4%\n",
    "Now let's say you wanted to know how accurate this test is. If someone went to go get the test and had a positive result, what is the probability that they have breast cancer?\n",
    "\n",
    "We can first visualize Bayes Theorem by filling out the table above:\n",
    "\n",
    "Cancer (1%)\tNo Cancer (99%)\n",
    "Tested Positive\tTrue Positive: 1% × 80%\tFalse Positive: 99% × 9.6%\n",
    "Tested Negative\tFalse Negative: 1% × 20%\tTrue Negative: 99% × 90.4%\n",
    "Remember that the proabbility of an event occuring is the number of ways it could happen given all possible outcomes:\n",
    "\n",
    "Probability=Desired eventAll possibilities\n",
    "Then the probability of getting a real, positive result is .01 × .8 = .008.\n",
    "\n",
    "The chance of getting any type of positive result is the chance of a true positive plus the chance of a false positive which is (.008 + 0.09504 = .10304).\n",
    "\n",
    "So, our chance of cancer is .008/.10304 = 0.0776, or about 7.8%.\n",
    "\n",
    "This means that a positive mammogram results in only a 7.8% chance of cancer, rather than 80% (the supposed accuracy of the test).\n",
    "\n",
    "This might seem counter intuitive at first but it makes sense: the test gives a false positive 10% of the time, so there will be a ton of false positives in any given population. There will be so many false positives, in fact, that most of the positive test results will be wrong.\n",
    "\n",
    "Now we can turn the above process into the Bayes Theorem Equation:\n",
    "\n",
    "Let's go ahead and plug in the information we do know into the second equation.\n",
    "\n",
    "P(A|B)=P(B|A)P(A)P(B|A)P(A)+P(B|notA)P(notA)\n",
    "Looking back on the information we were given:\n",
    "\n",
    "Pr(A|B) = Chance of having cancer (A) given a positive test (B). This is the desired information: How likely is it to have cancer with a positive result? We've already solved it using the table, so let's see if the equation agrees with our results: 7.8%.\n",
    "Pr(B|A) = Chance of a positive test (B) given that you had cancer (A). This is the chance of a true positive, 80% in this case.\n",
    "Pr(A) = Chance of having cancer (1%).\n",
    "Pr(not A) = Chance of not having cancer (99%).\n",
    "Pr(B|not A) = Chance of a positive test (B) given that you didn’t have cancer ( Not A). This is a false positive, 9.6% in our case.\n",
    "Plugging in these numbers, we arrive at the same answer as our table method: 7.76%\n",
    "\n",
    "Other great resources for more on Bayes Theorem:"
   ]
  },
  {
   "cell_type": "markdown",
   "metadata": {},
   "source": [
    "Other great resources for more on Bayes Theorem:\n",
    "\n",
    "1.) Simple Explanation using Legos:\n",
    "\n",
    "https://www.countbayesie.com/blog/2015/2/18/bayes-theorem-with-lego\n",
    "\n",
    "2.) Wikipedia:\n",
    "\n",
    "https://en.wikipedia.org/wiki/Bayes%27_theorem\n",
    "\n",
    "3.) Stat Trek:\n",
    "\n",
    "http://stattrek.com/probability/bayes-theorem.aspx"
   ]
  }
 ],
 "metadata": {
  "kernelspec": {
   "display_name": "Python 2",
   "language": "python",
   "name": "python2"
  },
  "language_info": {
   "codemirror_mode": {
    "name": "ipython",
    "version": 2
   },
   "file_extension": ".py",
   "mimetype": "text/x-python",
   "name": "python",
   "nbconvert_exporter": "python",
   "pygments_lexer": "ipython2",
   "version": "2.7.14"
  }
 },
 "nbformat": 4,
 "nbformat_minor": 2
}
