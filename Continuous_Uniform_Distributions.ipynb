{
 "cells": [
  {
   "cell_type": "markdown",
   "metadata": {},
   "source": [
    "Let's learn about Continous Uniform Distributions.\n",
    "\n",
    "Note: You should look at Discrete Uniform Distributions first.\n",
    "\n",
    "\n",
    "If we took a discrete uniform distribution to probability of any outcome was 1/n for any outcome, however for a continous distribution, our data can not be divided in discrete components, for example weighing an object. With perfect precision on weight, the data can take on any value between two points(e.g 5.4 grams,5.423 grams, 5.42322 grams, etc.)\n",
    "\n",
    "This means that our n possible values from the discrete uniform distribution is going towards infinity, thus the probability of any individual outcome for a continous distribution is 1/∞ ,technically undefined or zero if we take the limit to infinity. Thus we can only take probability measurements of ranges of values, and not just a specific point. Let's look at some definitions and examples to get a better understanding!\n",
    "\n",
    "A continous random variable X with a probability density function is a continous uniform random variable when:\n",
    "\n",
    "\n",
    "f(x)=1/(b−a)\n",
    "\n",
    "a<=x<=b\n",
    "\n",
    "\n",
    "This makes sense, since for a discrete uniform distribution the f(x)=1/n but in the continous case we don't have a specific n possibilities, we have a range from the min (a) to the max (b)!\n",
    "\n",
    "The mean is simply the average of the min and max:\n",
    "\n",
    "(a+b)^2\n",
    "\n",
    "\n",
    "The variance is defined as:\n",
    "\n",
    "σ2=(b−a)^2/12\n",
    "\n",
    "\n",
    "So what would an example problem look like? Let's say on average, a taxi ride in NYC takes 22 minutes. After taking some time measurements from experiments we gather that all the taxi rides are uniformly distributed between 19 and 27 minutes. What is the probability density function of a taxi ride, or f(x)?"
   ]
  },
  {
   "cell_type": "code",
   "execution_count": 1,
   "metadata": {},
   "outputs": [
    {
     "name": "stdout",
     "output_type": "stream",
     "text": [
      "The probability density function results in 0.125\n"
     ]
    }
   ],
   "source": [
    "#Lower bound time\n",
    "a = 19\n",
    "\n",
    "#Upper bound time\n",
    "b = 27\n",
    "\n",
    "#Then using our probability density function we get\n",
    "fx = 1.0/(b-a)\n",
    "\n",
    "#show \n",
    "print 'The probability density function results in %1.3f' %fx"
   ]
  },
  {
   "cell_type": "code",
   "execution_count": 2,
   "metadata": {},
   "outputs": [
    {
     "name": "stdout",
     "output_type": "stream",
     "text": [
      "The variance of the continous unifrom distribution is 5.0\n"
     ]
    }
   ],
   "source": [
    "#We can also get the variance \n",
    "var = ((b-a)**2 )/12\n",
    "\n",
    "#Show\n",
    "print 'The variance of the continous unifrom distribution is %1.1f' %var"
   ]
  },
  {
   "cell_type": "markdown",
   "metadata": {},
   "source": [
    "what's the probability that the taxi ride will last at least 25 minutes?"
   ]
  },
  {
   "cell_type": "code",
   "execution_count": 3,
   "metadata": {},
   "outputs": [
    {
     "name": "stdout",
     "output_type": "stream",
     "text": [
      " The probability that the taxi ride will last at least 25 minutes is 25.0%\n"
     ]
    }
   ],
   "source": [
    "#f(27)\n",
    "fx_1 = 27.0/(b-a)\n",
    "#f(25)\n",
    "fx_2 = 25.0/(b-a)\n",
    "\n",
    "#Our answer is then\n",
    "ans = fx_1-fx_2\n",
    "\n",
    "#print\n",
    "print ' The probability that the taxi ride will last at least 25 minutes is %2.1f%%' %(100*ans)"
   ]
  },
  {
   "cell_type": "markdown",
   "metadata": {},
   "source": [
    "Let's try using scipy"
   ]
  },
  {
   "cell_type": "code",
   "execution_count": 6,
   "metadata": {},
   "outputs": [
    {
     "data": {
      "text/plain": [
       "[<matplotlib.lines.Line2D at 0xbe31cc0>]"
      ]
     },
     "execution_count": 6,
     "metadata": {},
     "output_type": "execute_result"
    },
    {
     "data": {
      "image/png": "[encoded data removed]",
      "text/plain": [
       "<matplotlib.figure.Figure at 0xc36cd30>"
      ]
     },
     "metadata": {},
     "output_type": "display_data"
    }
   ],
   "source": [
    "# Import the following\n",
    "from scipy.stats import uniform\n",
    "import numpy as np\n",
    "import matplotlib.pyplot as plt\n",
    "%matplotlib inline\n",
    "\n",
    "#Let's set an A and B\n",
    "A=0\n",
    "B=5\n",
    "\n",
    "# Set x as 100 linearly spaced points between A and B\n",
    "x = np.linspace(A,B,100)\n",
    "\n",
    "# Use uniform(loc=start point,scale=endpoint)\n",
    "rv = uniform(loc=A,scale=B)\n",
    "\n",
    "#Plot the PDF of that uniform distirbution\n",
    "plt.plot(x,rv.pdf(x))"
   ]
  },
  {
   "cell_type": "markdown",
   "metadata": {},
   "source": [
    "Note the above line is at 0.2, as we would expect since 1/(5-0) is 1/5 or 0.2."
   ]
  },
  {
   "cell_type": "markdown",
   "metadata": {},
   "source": [
    "More resources:\n",
    "\n",
    "1.)http://en.wikipedia.org/wiki/Uniform_distribution_%28continuous%29\n",
    "\n",
    "2.)http://docs.scipy.org/doc/scipy/reference/generated/scipy.stats.uniform.html\n",
    "\n",
    "3.)http://mathworld.wolfram.com/UniformDistribution.html"
   ]
  }
 ],
 "metadata": {
  "kernelspec": {
   "display_name": "Python 2",
   "language": "python",
   "name": "python2"
  },
  "language_info": {
   "codemirror_mode": {
    "name": "ipython",
    "version": 2
   },
   "file_extension": ".py",
   "mimetype": "text/x-python",
   "name": "python",
   "nbconvert_exporter": "python",
   "pygments_lexer": "ipython2",
   "version": "2.7.14"
  }
 },
 "nbformat": 4,
 "nbformat_minor": 2
}
